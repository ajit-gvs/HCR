{
  "nbformat": 4,
  "nbformat_minor": 0,
  "metadata": {
    "colab": {
      "name": "data_loader.ipynb",
      "provenance": [],
      "collapsed_sections": [],
      "authorship_tag": "ABX9TyOMeT3E23hzhLb1q6cRXJbv",
      "include_colab_link": true
    },
    "kernelspec": {
      "name": "python3",
      "display_name": "Python 3"
    }
  },
  "cells": [
    {
      "cell_type": "markdown",
      "metadata": {
        "id": "view-in-github",
        "colab_type": "text"
      },
      "source": [
        "<a href=\"https://colab.research.google.com/github/ajit-gvs/HCR/blob/master/data_loader.ipynb\" target=\"_parent\"><img src=\"https://colab.research.google.com/assets/colab-badge.svg\" alt=\"Open In Colab\"/></a>"
      ]
    },
    {
      "cell_type": "code",
      "metadata": {
        "id": "vKJmQQyXIehw"
      },
      "source": [
        "def data_loader():\r\n",
        "  samples=[]\r\n",
        "  f = open(data_dir /ascii/'words.txt')\r\n",
        "   for line in f:\r\n",
        "            # ignore comment line\r\n",
        "            if not line or line[0] == '#':\r\n",
        "                continue\r\n",
        "\r\n",
        "            lineSplit = line.strip().split(' ')\r\n",
        "            assert len(lineSplit) >= 9\r\n",
        "            fileNameSplit = lineSplit[0].split('-')\r\n",
        "            fileName = data_dir /words/ fileNameSplit[0] / f'{fileNameSplit[0]}-{fileNameSplit[1]}' / lineSplit[0] + '.png'\r\n",
        "            gtText = lineSplit[8:]\r\n",
        "            chars = chars.union(set(list(gtText)))\r\n",
        "\r\n",
        "            # put sample into list\r\n",
        "             samples.append([fileName,gtText])\r\n",
        "  return samples\r\n",
        "\r\n",
        "\r\n"
      ],
      "execution_count": null,
      "outputs": []
    }
  ]
}